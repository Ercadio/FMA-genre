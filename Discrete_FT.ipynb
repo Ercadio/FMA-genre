{
 "cells": [
  {
   "cell_type": "markdown",
   "metadata": {},
   "source": [
    "$\n",
    "\\text{Properties of Integrals for integers m, n}\\\\\n",
    "\\displaystyle\\int_{-L}^{L}\\sin\\left(\\frac{n\\pi x}{L}\\right)dx=0\\\\\n",
    "\\displaystyle\\int_{-L}^{L}\\cos\\left(\\frac{n\\pi x}{L}\\right)dx=0\\\\\n",
    "\\displaystyle\\int_{-L}^{L}\\cos\\left(\\frac{n\\pi x}{L}\\right)\\sin\\left(\\frac{m\\pi x}{L}\\right)dx=0\\\\\n",
    "\\displaystyle\\int_{-L}^{L}\\sin\\left(\\frac{n\\pi x}{L}\\right)\\sin\\left(\\frac{m\\pi x}{L}\\right)dx=\n",
    "\\begin{cases}\n",
    "    0 &\\quad m\\neq n\\\\\n",
    "    L &\\quad m=n\n",
    "\\end{cases}\n",
    "\\\\\n",
    "\\displaystyle\\int_{-L}^{L}\\cos\\left(\\frac{n\\pi x}{L}\\right)\\cos\\left(\\frac{m\\pi x}{L}\\right)dx=\n",
    "\\begin{cases}\n",
    "    0 &\\quad m\\neq n\\\\\n",
    "    L &\\quad m=n\n",
    "\\end{cases}\n",
    "\\\\\n",
    "f(x)\\approx a_0+\\displaystyle\\sum_{n=1}^{\\infty}\\left[a_n\\cos\\left(\\frac{n\\pi x}{L}\\right)+b_n \\sin\\left(\\frac{n\\pi x}{L}\\right)\\right]\\\\\\\\\n",
    "\\text{Properties of Discrete Fourier Series}\\\\\n",
    "\\displaystyle\\int^{L}_{-L}a_0+\\displaystyle\\sum_{n=1}^{\\infty}\\left[a_n\\cos\\left(\\frac{n\\pi x}{L}\\right)+b_n \\sin\\left(\\frac{n\\pi x}{L}\\right)\\right]dx=2a_0L+0\\\\\n",
    "\\displaystyle\\int^{L}_{-L}\\left(a_0+\\displaystyle\\sum_{n=1}^{\\infty}\\left[a_n\\cos\\left(\\frac{n\\pi x}{L}\\right)+b_n \\sin\\left(\\frac{n\\pi x}{L}\\right)\\right]\\right)\\cos\\left(\\frac{m\\pi x}{L}\\right)dx = 0 + a_mL\\\\\n",
    "\\displaystyle\\int^{L}_{-L}\\left(a_0+\\displaystyle\\sum_{k=1}^{\\infty}\\left[a_n\\cos\\left(\\frac{n\\pi x}{L}\\right)+b_n \\sin\\left(\\frac{n\\pi x}{L}\\right)\\right]\\right)\\cos\\left(\\frac{m\\pi x}{L}\\right)dx = 0 + b_mL\\\\\n",
    "\\text{...And so we have}\\\\\n",
    "a_0=\\frac{1}{2L}\\displaystyle\\int^{L}_{-L}f(x)dx\\\\\n",
    "a_m=\\frac{1}{L}\\displaystyle\\int^{L}_{-L}f(x)cos\\left(\\frac{m\\pi x}{L}\\right)dx\\\\\n",
    "b_m=\\frac{1}{L}\\displaystyle\\int^{L}_{-L}f(x)sin\\left(\\frac{m\\pi x}{L}\\right)dx\\\\\n",
    "$"
   ]
  },
  {
   "cell_type": "markdown",
   "metadata": {},
   "source": [
    "$\n",
    "f(x)\\approx a_0+\\displaystyle\\sum_{k=1}^{\\infty}\\left[a_n\\cos\\left(\\frac{k\\pi x}{L}\\right)+b_n \\sin\\left(\\frac{k\\pi x}{L}\\right)\\right]\\\\\n",
    "=a_0+\\displaystyle\\sum_{k=1}^{\\infty}\\left[a_n\\left(\\frac{1}{2}e^{j\\theta}+\\frac{1}{2}e^{-j\\theta}\\right)+b_n\\left(\\frac{1}{2}je^{j\\theta} - \\frac{1}{2}je^{-j\\theta}\\right)\\right] \\quad \\text{with }\\theta=\\frac{k\\pi x}{L}\\\\\n",
    "=a_0+\\displaystyle\\sum_{k=1}^{\\infty}\\left[\\left(\\frac{1}{2}a_n-\\frac{1}{2}jb_n\\right)e^{i\\theta}\\right] + \\displaystyle\\sum_{k=1}^{\\infty}\\left[\\left(\\frac{1}{2}a_n+\\frac{1}{2}jb_n\\right)e^{-i\\theta}\\right]\\\\\n",
    "=\\displaystyle\\sum_{k=-\\infty}^{\\infty}c_ke^{\\frac{k\\pi x}{L}}\\\\\n",
    "\\text{Where}\\\\\n",
    "c_k=\\begin{cases}\n",
    "\\frac{a_k-jb_k}{2} &\\quad k>0\\\\\n",
    "a_0 &\\quad k=0\\\\\n",
    "\\frac{a_k+jb_k}{2} &\\quad k<0\\\\\n",
    "\\end{cases}\\\\\n",
    "\\text{AND}\\\\\n",
    "c_k=\\frac{1}{2L}\\displaystyle\\int^{L}_{-L}f(x)e^{\\frac{-j\\pi xk}{L}}dx\n",
    "$"
   ]
  },
  {
   "cell_type": "code",
   "execution_count": null,
   "metadata": {},
   "outputs": [],
   "source": []
  },
  {
   "cell_type": "code",
   "execution_count": null,
   "metadata": {},
   "outputs": [],
   "source": []
  }
 ],
 "metadata": {
  "kernelspec": {
   "display_name": "Python 3",
   "language": "python",
   "name": "python3"
  },
  "language_info": {
   "codemirror_mode": {
    "name": "ipython",
    "version": 3
   },
   "file_extension": ".py",
   "mimetype": "text/x-python",
   "name": "python",
   "nbconvert_exporter": "python",
   "pygments_lexer": "ipython3",
   "version": "3.6.3"
  }
 },
 "nbformat": 4,
 "nbformat_minor": 2
}
